{
 "cells": [
  {
   "cell_type": "code",
   "execution_count": 1,
   "id": "genetic-presence",
   "metadata": {},
   "outputs": [
    {
     "name": "stdout",
     "output_type": "stream",
     "text": [
      "Num GPUs Available:  2\n"
     ]
    }
   ],
   "source": [
    "import pandas as pd\n",
    "import tensorflow as tf\n",
    "from pandas import DataFrame\n",
    "import numpy as np\n",
    "import math\n",
    "import heapq\n",
    "from tqdm import tqdm\n",
    "import random\n",
    "print(\"Num GPUs Available: \", len(tf.config.list_physical_devices('GPU')))\n",
    "#!pip install --upgrade tensorflow\n",
    "#!pip install --upgrade pandas\n",
    "#!pip install --upgrade numpy\n",
    "#tf.debugging.set_log_device_placement(True)\n",
    "\n"
   ]
  },
  {
   "cell_type": "code",
   "execution_count": 2,
   "id": "stuffed-burns",
   "metadata": {},
   "outputs": [
    {
     "name": "stdout",
     "output_type": "stream",
     "text": [
      "3200721\n",
      "8787564\n",
      "updated without sparse feeds\n",
      "713621\n",
      "6300464\n"
     ]
    }
   ],
   "source": [
    "df = pd.read_csv('users-feeds.csv')\n",
    "print(df['feed_id'].nunique())\n",
    "print(len(df))\n",
    "#remove sparse feeds\n",
    "df = df[df.groupby('feed_id').feed_id.transform(len) > 1]\n",
    "print('updated without sparse feeds')\n",
    "print(df['feed_id'].nunique())\n",
    "print(len(df))\n",
    "\n",
    "#remove users with less than 5 subs\n",
    "df['cnt'] = df.groupby(['user'])['feed_id'].transform('count')\n",
    "#print((df['user'] == 3186).sum()) should be 106\n",
    "df = df.drop(df[df.cnt <6].index)[['user','feed_id']]\n",
    "# print(df.groupby(['user']).count().mean())\n",
    "\n",
    "#dim of all items for model\n",
    "full_items = df['feed_id'].nunique()\n",
    "\n",
    "\n",
    "\n",
    "def shrink_users_df(df,user_id):\n",
    "    userIds = np.random.choice(df[user_id].unique(),\n",
    "                                    size=int(len(df[user_id].unique())*0.12),\n",
    "                                    replace=False)\n",
    "    return df.loc[df[user_id].isin(userIds)]\n",
    "def add_negative_samples(df, item_tag, user_tag,label_tag):\n",
    "\n",
    "    updated_df = pd.DataFrame(columns=[user_tag,item_tag,label_tag])\n",
    "    all_feeds = df[item_tag].unique()\n",
    "    users, items, labels = [], [], []\n",
    "\n",
    "    user_item_set = set(zip(df[user_tag], df[item_tag]))\n",
    "    num_negatives = 5\n",
    "\n",
    "    for (u, i) in user_item_set:\n",
    "        users.append(u)\n",
    "        items.append(i)\n",
    "        labels.append(1) # items that the user has interacted with are positive\n",
    "        for _ in range(num_negatives):\n",
    "            # randomly select an item\n",
    "            negative_item = np.random.choice(all_feeds)\n",
    "            # check that the user has not interacted with this item\n",
    "            while (u, negative_item) in user_item_set:\n",
    "                negative_item = np.random.choice(all_feeds)\n",
    "            users.append(u)\n",
    "            items.append(negative_item)\n",
    "            labels.append(0) # items not interacted with are negative\n",
    "    updated_df[user_tag] = users\n",
    "    updated_df[item_tag] = items\n",
    "    updated_df[label_tag] = labels\n",
    "    del df\n",
    "    return updated_df"
   ]
  },
  {
   "cell_type": "code",
   "execution_count": 3,
   "id": "organized-addition",
   "metadata": {},
   "outputs": [],
   "source": [
    "def mask_first(x):\n",
    "    \"\"\"\n",
    "    Return a list of 0 for the first item and 1 for all others\n",
    "    \"\"\"\n",
    "    result = np.ones_like(x)\n",
    "    result[0] = 0\n",
    "\n",
    "    return result\n",
    "\n",
    "# needs to add validate in the future\n",
    "def train_test_split(full_df):\n",
    "    df_test = df.copy(deep=True)\n",
    "    df_test = df_test.groupby(['user']).first()\n",
    "\n",
    "    df_test['user'] = df_test.index\n",
    "    df_test = df_test[['user', 'feed_id','is_following_feed']]\n",
    "    df_test = df_test.rename_axis(None, axis=1)\n",
    "\n",
    "    df_train = df.copy(deep=True)\n",
    "    mask = df.groupby(['user'])['user'].transform(mask_first).astype(bool)\n",
    "\n",
    "    df_train = df.loc[mask]\n",
    "    return df_train, df_test"
   ]
  },
  {
   "cell_type": "code",
   "execution_count": 4,
   "id": "conservative-supervision",
   "metadata": {},
   "outputs": [
    {
     "name": "stdout",
     "output_type": "stream",
     "text": [
      "           user  feed_id  is_following_feed\n",
      "1799112  100307   783451                  1\n",
      "4421755   37931  1739661                  0\n",
      "514957   174267  2375665                  0\n",
      "1149025   56709  1668706                  0\n",
      "1262360  135228   867386                  0\n",
      "3929577  115114   554043                  0\n",
      "2900688   95803       76                  1\n",
      "1717267   80046  1880654                  0\n",
      "3771848   48004       57                  0\n",
      "716719    29003   940783                  0\n",
      "INFO:tensorflow:Using MirroredStrategy with devices ('/job:localhost/replica:0/task:0/device:GPU:0', '/job:localhost/replica:0/task:0/device:GPU:1')\n"
     ]
    }
   ],
   "source": [
    "df = shrink_users_df(df, 'user')\n",
    "\n",
    "\n",
    "df.loc[:, 'is_following_feed'] = 1\n",
    "\n",
    "# from google.colab import files\n",
    "# df.to_csv('update.csv')\n",
    "# files.download( \"update.csv\" )\n",
    "\n",
    "df = add_negative_samples(df,'feed_id','user','is_following_feed')\n",
    "\n",
    "print(df.sample(10))\n",
    "\n",
    "df_train, df_test = train_test_split(df)\n",
    "strategy = tf.distribute.MirroredStrategy([\"GPU:0\", \"GPU:1\"])\n",
    "\n",
    "# test_user_item_set = set(zip(df_test['user'], df_test['feed_id']))\n",
    "\n",
    "# for (u,i) in test_user_item_set:\n",
    "#   print(u)\n",
    "#   print([u]*100)"
   ]
  },
  {
   "cell_type": "code",
   "execution_count": 5,
   "id": "maritime-wedding",
   "metadata": {},
   "outputs": [],
   "source": [
    "\n",
    "def _get_user_embedding_layers(inputs, emb_dim):  \n",
    "    \"\"\" create user embeddings \"\"\"  \n",
    "    user_gmf_emb = tf.keras.layers.Dense(emb_dim, activation='relu',kernel_initializer=tf.keras.initializers.GlorotUniform())(inputs)  \n",
    "    user_mlp_emb = tf.keras.layers.Dense(emb_dim, activation='relu', kernel_initializer=tf.keras.initializers.GlorotUniform())(inputs)  \n",
    "\n",
    "    return user_gmf_emb, user_mlp_emb  \n",
    "\n",
    "def _get_item_embedding_layers(inputs, emb_dim):  \n",
    "    \"\"\" create item embeddings \"\"\"  \n",
    "    item_gmf_emb = tf.keras.layers.Dense(emb_dim, activation='relu', kernel_initializer=tf.keras.initializers.GlorotUniform())(inputs)  \n",
    "    item_mlp_emb = tf.keras.layers.Dense(emb_dim, activation='relu', kernel_initializer=tf.keras.initializers.GlorotUniform())(inputs)  \n",
    "    return item_gmf_emb, item_mlp_emb  "
   ]
  },
  {
   "cell_type": "code",
   "execution_count": 6,
   "id": "caring-influence",
   "metadata": {},
   "outputs": [],
   "source": [
    "\n",
    "def _gmf(user_emb, item_emb):  \n",
    "    \"\"\" general matrix factorization branch \"\"\"  \n",
    "    gmf_mat = tf.keras.layers.Multiply()([user_emb, item_emb])  \n",
    "    return gmf_mat  "
   ]
  },
  {
   "cell_type": "code",
   "execution_count": 7,
   "id": "nasty-slide",
   "metadata": {},
   "outputs": [],
   "source": [
    "\n",
    "def _mlp(user_emb, item_emb, dropout_rate):  \n",
    "    \"\"\" multi-layer perceptron branch \"\"\"  \n",
    "    def add_layer(dim, input_layer, dropout_rate):  \n",
    "        hidden_layer = tf.keras.layers.Dense(dim, activation='relu', kernel_initializer=tf.keras.initializers.GlorotUniform())(input_layer)  \n",
    "        if dropout_rate:  \n",
    "            dropout_layer = tf.keras.layers.Dropout(dropout_rate)(hidden_layer)  \n",
    "            return dropout_layer  \n",
    "        return hidden_layer  \n",
    "    # updated output from 64 32 16 8 to 256 256 128 64\n",
    "    concat_layer = tf.keras.layers.Concatenate()([user_emb, item_emb])\n",
    "    dropout_l1 = tf.keras.layers.Dropout(dropout_rate)(concat_layer)  \n",
    "    dense_layer_1 = add_layer(256, dropout_l1, dropout_rate)  \n",
    "    dense_layer_2 = add_layer(256, dense_layer_1, dropout_rate)  \n",
    "    dense_layer_3 = add_layer(128, dense_layer_2, dropout_rate)  \n",
    "    dense_layer_4 = add_layer(64, dense_layer_3, None)  \n",
    "    return dense_layer_4  "
   ]
  },
  {
   "cell_type": "code",
   "execution_count": 8,
   "id": "collectible-distribution",
   "metadata": {},
   "outputs": [],
   "source": [
    "\n",
    "def _neuCF(gmf, mlp, dropout_rate):  \n",
    "    \"\"\" final output layer \"\"\"  \n",
    "    concat_layer = tf.keras.layers.Concatenate()([gmf, mlp])  \n",
    "    output_layer = tf.keras.layers.Dense(1, activation='sigmoid', kernel_initializer=tf.keras.initializers.lecun_uniform())(concat_layer)  \n",
    "    return output_layer  "
   ]
  },
  {
   "cell_type": "code",
   "execution_count": 9,
   "id": "municipal-cornell",
   "metadata": {},
   "outputs": [],
   "source": [
    "\n",
    "def batch_generator(x, y, batch_size, n_batch, shuffle, user_dim, item_dim):\n",
    "    \"\"\" batch generator to supply data for training and testing \"\"\"\n",
    "    user_df, item_df = x\n",
    "\n",
    "    counter = 0\n",
    "    training_index = np.arange(user_df.shape[0])\n",
    "\n",
    "\n",
    "    if shuffle:\n",
    "        np.random.shuffle(training_index)\n",
    "\n",
    "    while True:\n",
    "        batch_index = training_index[batch_size*counter:batch_size*(counter+1)]\n",
    "        user_batch = tf.one_hot(user_df[batch_index], depth=user_dim)\n",
    "        item_batch = tf.one_hot(item_df[batch_index], depth=item_dim)\n",
    "\n",
    "        y_batch = y[batch_index]\n",
    "        counter += 1\n",
    "        yield [user_batch, item_batch], y_batch\n",
    "\n",
    "        if counter == n_batch:\n",
    "            if shuffle:\n",
    "                np.random.shuffle(training_index)\n",
    "            counter = 0"
   ]
  },
  {
   "cell_type": "code",
   "execution_count": 10,
   "id": "decimal-humidity",
   "metadata": {},
   "outputs": [],
   "source": [
    "\n",
    "def build_graph(user_dim, item_dim, dropout_rate=0.25):\n",
    "    \"\"\" neural collaborative filtering model \"\"\"\n",
    "\n",
    "    user_input = tf.keras.Input(shape=(user_dim), name='user_input')\n",
    "    item_input = tf.keras.Input(shape=(item_dim), name='item_input')\n",
    "\n",
    "    # create embedding layers\n",
    "    user_gmf_emb, user_mlp_emb = _get_user_embedding_layers(user_input, 32)\n",
    "    item_gmf_emb, item_mlp_emb = _get_item_embedding_layers(item_input, 32)\n",
    "\n",
    "    # general matrix factorization\n",
    "    gmf = _gmf(user_gmf_emb, item_gmf_emb)\n",
    "\n",
    "    # multi layer perceptron\n",
    "    mlp = _mlp(user_mlp_emb, item_mlp_emb, dropout_rate)\n",
    "\n",
    "    # output\n",
    "    output = _neuCF(gmf, mlp, dropout_rate)\n",
    "\n",
    "    # create the model\n",
    "    model = tf.keras.Model(inputs=[user_input, item_input], outputs=output)\n",
    "\n",
    "    return model"
   ]
  },
  {
   "cell_type": "code",
   "execution_count": 11,
   "id": "purple-reply",
   "metadata": {},
   "outputs": [],
   "source": [
    "\n",
    "def early_stoppage():\n",
    "    return tf.keras.callbacks.EarlyStopping(\n",
    "            monitor='val_loss', min_delta=0.01, patience=1, verbose=1,\n",
    "            mode='auto', baseline=None, restore_best_weights=False\n",
    "    )"
   ]
  },
  {
   "cell_type": "code",
   "execution_count": 28,
   "id": "subjective-vitamin",
   "metadata": {},
   "outputs": [],
   "source": [
    "def model(x_train, y_train, n_user, n_item, num_epoch, batch_size):\n",
    "    with strategy.scope():\n",
    "        print('n_user')\n",
    "        print(n_user)\n",
    "        num_batch = np.ceil(x_train[0].shape[0]/(batch_size*2))\n",
    "        print('num_batch')\n",
    "        print(num_batch)\n",
    "    \n",
    "\n",
    "        # build graph\n",
    "        model = build_graph(n_user, n_item)\n",
    "        print('got here')\n",
    "        # compile and train\n",
    "        #optimizer = tf.keras.optimizers.Adam(learning_rate=.00222)\n",
    "        optimizer = tf.keras.optimizers.Adam(learning_rate=0.00382059, beta_1=0.783529, beta_2=0.909003, epsilon=1.45439e-07)\n",
    "        model.compile(optimizer=optimizer,\n",
    "                    loss=tf.keras.losses.BinaryCrossentropy(),\n",
    "                    metrics=['accuracy', 'top_k_categorical_accuracy']\n",
    "        )\n",
    "\n",
    "        model.fit_generator(\n",
    "            generator=batch_generator(\n",
    "                x=x_train, y=y_train,\n",
    "                batch_size=batch_size, n_batch=num_batch,\n",
    "                shuffle=True, user_dim=n_user, item_dim=n_item),\n",
    "            epochs=num_epoch,\n",
    "            steps_per_epoch=num_batch,\n",
    "            verbose=1,\n",
    "            callbacks=[early_stoppage()]\n",
    "        )\n",
    "\n",
    "        return model"
   ]
  },
  {
   "cell_type": "code",
   "execution_count": null,
   "id": "packed-possibility",
   "metadata": {},
   "outputs": [
    {
     "name": "stdout",
     "output_type": "stream",
     "text": [
      "init size\n",
      "12255\n",
      "275142\n",
      "12255\n",
      "275142\n",
      "n_user\n",
      "12255\n",
      "num_batch\n",
      "4352.0\n",
      "got here\n"
     ]
    },
    {
     "name": "stderr",
     "output_type": "stream",
     "text": [
      "/opt/conda/lib/python3.7/site-packages/tensorflow/python/keras/engine/training.py:1844: UserWarning: `Model.fit_generator` is deprecated and will be removed in a future version. Please use `Model.fit`, which supports generators.\n",
      "  warnings.warn('`Model.fit_generator` is deprecated and '\n"
     ]
    },
    {
     "name": "stdout",
     "output_type": "stream",
     "text": [
      "Epoch 1/10\n",
      "INFO:tensorflow:batch_all_reduce: 18 all-reduces with algorithm = nccl, num_packs = 1\n",
      "INFO:tensorflow:batch_all_reduce: 18 all-reduces with algorithm = nccl, num_packs = 1\n",
      " 749/4352 [====>.........................] - ETA: 53:23 - loss: 0.4358 - accuracy: 0.8450 - top_k_categorical_accuracy: 1.0000"
     ]
    }
   ],
   "source": [
    "print('init size')\n",
    "print(df['user'].nunique())\n",
    "print(df['feed_id'].nunique())\n",
    "print(df_train['user'].nunique())\n",
    "print(df_train['feed_id'].nunique())\n",
    "\n",
    "ncf_model = model(\n",
    "        x_train=[df_train['user'].to_numpy(), df_train['feed_id'].to_numpy()],\n",
    "        y_train=df_train['is_following_feed'].to_numpy(),\n",
    "        n_user=df['user'].nunique(),\n",
    "        n_item=full_items,\n",
    "        num_epoch=10,\n",
    "        batch_size=512    \n",
    ")\n",
    "    \n",
    "    \n"
   ]
  },
  {
   "cell_type": "code",
   "execution_count": null,
   "id": "numerical-allah",
   "metadata": {},
   "outputs": [],
   "source": [
    "import keras\n",
    "ncf_model.save('ncf-model-4-4-21.keras')\n",
    "#ncf_model = keras.models.load_model('ncf-model-new.keras')\n",
    "print(ncf_model.summary())\n",
    "\n",
    "#print(df_test['user'].nunique())\n",
    "#eval_hit_rate(df_test, df, ncf_model, n_user=df['user'].nunique())\n"
   ]
  },
  {
   "cell_type": "code",
   "execution_count": null,
   "id": "needed-council",
   "metadata": {},
   "outputs": [],
   "source": [
    "# tf.keras.utils.plot_model(ncf_model, to_file=\"neural_collaborative_filtering_model.png\")  \n",
    "# files.download('neural_collaborative_filtering_model.png')\n",
    "\n",
    "# df_test.head()\n"
   ]
  },
  {
   "cell_type": "code",
   "execution_count": null,
   "id": "billion-howard",
   "metadata": {},
   "outputs": [],
   "source": []
  },
  {
   "cell_type": "code",
   "execution_count": null,
   "id": "mysterious-conversation",
   "metadata": {},
   "outputs": [],
   "source": [
    "# really might have to update n_user and n_item to uniques in whole df"
   ]
  },
  {
   "cell_type": "code",
   "execution_count": null,
   "id": "familiar-provision",
   "metadata": {},
   "outputs": [],
   "source": []
  },
  {
   "cell_type": "code",
   "execution_count": null,
   "id": "olive-characterization",
   "metadata": {},
   "outputs": [],
   "source": [
    "def updated_eval_hit_rate(test_df, full_df, model, n_user, n_items):\n",
    "  print('num unique for users: ' + str(full_df['user'].nunique()))  \n",
    "  print('num unique for items: ' + str(full_df['feed_id'].nunique()))  \n",
    "\n",
    "  test_user_item_set = set(zip(test_df['user'], test_df['feed_id']))\n",
    "\n",
    "  user_interacted_items = full_df.groupby('user')['feed_id'].apply(list).to_dict()\n",
    "  hits = []\n",
    "  counter = 0\n",
    "  for (u,i) in test_user_item_set:\n",
    "    interacted_items = user_interacted_items[u]\n",
    "    not_interacted_items = set(full_df['feed_id'].unique()) - set(interacted_items)\n",
    "    selected_not_interacted = list(np.random.choice(list(not_interacted_items), 99))\n",
    "    test_items = selected_not_interacted + [i]\n",
    "    \n",
    "    #new code logic\n",
    "    with tf.device('/GPU:0'):\n",
    "        inputrr = [tf.one_hot(np.asarray(u, dtype=np.int64), depth=n_user)]*100\n",
    "        itemrr = [tf.one_hot(np.asarray(i, dtype=np.int64), depth=n_items) for i in test_items]\n",
    "        predicted_label = [i[0] for i in model.predict([np.asarray(inputrr, dtype=np.int64), np.asarray(itemrr, dtype=np.int64)]).tolist()]\n",
    "        counter = counter + 1\n",
    "        results = sorted(dict(zip(test_items, predicted_label)).items(),  key=lambda x: x[1], reverse=True)\n",
    "        del predicted_label\n",
    "        del inputrr\n",
    "        del itemrr\n",
    "        #print(str(counter))\n",
    "        if counter % 100 == 0:\n",
    "            print('we are at step: ' + str(counter))\n",
    "            print(\"the hit ratio at this step is {:.2f}\".format(np.average(hits)))\n",
    "    top8_items = [i[0] for i in results[0:10]]\n",
    "    #print(top8_items)\n",
    "    if i in top8_items:\n",
    "        hits.append(1)\n",
    "#         print('we hit for feed: ' + str(u))\n",
    "    else:\n",
    "        hits.append(0)\n",
    "#         print('we missed for feed: ' + str(u))\n",
    "        \n",
    "  print(\"The Hit Ratio @ 5 is {:.2f}\".format(np.average(hits)))"
   ]
  },
  {
   "cell_type": "code",
   "execution_count": null,
   "id": "blind-summit",
   "metadata": {},
   "outputs": [],
   "source": [
    "updated_eval_hit_rate(df_test, df, ncf_model, df['user'].nunique(), full_items)"
   ]
  },
  {
   "cell_type": "code",
   "execution_count": null,
   "id": "likely-helen",
   "metadata": {},
   "outputs": [],
   "source": []
  },
  {
   "cell_type": "code",
   "execution_count": null,
   "id": "advised-holiday",
   "metadata": {},
   "outputs": [],
   "source": []
  }
 ],
 "metadata": {
  "environment": {
   "name": "tf2-gpu.2-4.m65",
   "type": "gcloud",
   "uri": "gcr.io/deeplearning-platform-release/tf2-gpu.2-4:m65"
  },
  "kernelspec": {
   "display_name": "Python [conda env:root] *",
   "language": "python",
   "name": "conda-root-py"
  },
  "language_info": {
   "codemirror_mode": {
    "name": "ipython",
    "version": 3
   },
   "file_extension": ".py",
   "mimetype": "text/x-python",
   "name": "python",
   "nbconvert_exporter": "python",
   "pygments_lexer": "ipython3",
   "version": "3.7.10"
  }
 },
 "nbformat": 4,
 "nbformat_minor": 5
}
