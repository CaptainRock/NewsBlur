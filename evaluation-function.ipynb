{
 "cells": [
  {
   "cell_type": "code",
   "execution_count": null,
   "id": "threaded-ferry",
   "metadata": {},
   "outputs": [],
   "source": [
    "def eval_hit_rate(test_df, full_df, model, n_user, n_items):\n",
    "  print('num unique for users: ' + str(full_df['user'].nunique()))  \n",
    "  print('num unique for items: ' + str(full_df['feed_id'].nunique()))  \n",
    "\n",
    "  test_user_item_set = set(zip(test_df['user'], test_df['feed_id']))\n",
    "\n",
    "  user_interacted_items = full_df.groupby('user')['feed_id'].apply(list).to_dict()\n",
    "  hits = []\n",
    "  counter = 0\n",
    "  for (u,i) in test_user_item_set:\n",
    "    interacted_items = user_interacted_items[u]\n",
    "    not_interacted_items = set(full_df['feed_id'].unique()) - set(interacted_items)\n",
    "    selected_not_interacted = list(np.random.choice(list(not_interacted_items), 99))\n",
    "    test_items = selected_not_interacted + [i]\n",
    "    \n",
    "    #new code logic\n",
    "    with tf.device('/GPU:0'):\n",
    "        inputrr = [tf.one_hot(np.asarray(u, dtype=np.int64), depth=19058)]*100\n",
    "        itemrr = [tf.one_hot(np.asarray(i, dtype=np.int64), depth=480154) for i in test_items]\n",
    "        predicted_label = [i[0] for i in model.predict([np.asarray(inputrr, dtype=np.int64), np.asarray(itemrr, dtype=np.int64)]).tolist()]\n",
    "        counter = counter + 1\n",
    "        results = sorted(dict(zip(test_items, predicted_label)).items(),  key=lambda x: x[1], reverse=True)\n",
    "        if counter % 500 == 0:\n",
    "            print('we are at step: ' + str(counter))\n",
    "    top5_items = [i[0] for i in results[0:5]]\n",
    "    print(top5_items)\n",
    "    if i in top5_items:\n",
    "        hits.append(1)\n",
    "        print('we hit for feed: ' + str(u))\n",
    "    else:\n",
    "        hits.append(0)\n",
    "        print('we missed for feed: ' + str(u))\n",
    "        \n",
    "  print(\"The Hit Ratio @ 5 is {:.2f}\".format(np.average(hits)))"
   ]
  }
 ],
 "metadata": {
  "environment": {
   "name": "tf2-gpu.2-4.m65",
   "type": "gcloud",
   "uri": "gcr.io/deeplearning-platform-release/tf2-gpu.2-4:m65"
  },
  "kernelspec": {
   "display_name": "Python 3",
   "language": "python",
   "name": "python3"
  },
  "language_info": {
   "codemirror_mode": {
    "name": "ipython",
    "version": 3
   },
   "file_extension": ".py",
   "mimetype": "text/x-python",
   "name": "python",
   "nbconvert_exporter": "python",
   "pygments_lexer": "ipython3",
   "version": "3.7.10"
  }
 },
 "nbformat": 4,
 "nbformat_minor": 5
}
