{
 "cells": [
  {
   "cell_type": "code",
   "execution_count": 1,
   "id": "everyday-programming",
   "metadata": {},
   "outputs": [
    {
     "name": "stdout",
     "output_type": "stream",
     "text": [
      "Num GPUs Available:  1\n"
     ]
    }
   ],
   "source": [
    "import pandas as pd\n",
    "import tensorflow as tf\n",
    "from pandas import DataFrame\n",
    "import numpy as np\n",
    "import math\n",
    "import heapq\n",
    "from tqdm import tqdm\n",
    "import random\n",
    "print(\"Num GPUs Available: \", len(tf.config.list_physical_devices('GPU')))\n",
    "#!pip install --upgrade tensorflow\n",
    "#!pip install --upgrade pandas\n",
    "#!pip install --upgrade numpy\n",
    "#tf.debugging.set_log_device_placement(True)\n"
   ]
  },
  {
   "cell_type": "code",
   "execution_count": 2,
   "id": "narrow-template",
   "metadata": {},
   "outputs": [
    {
     "name": "stdout",
     "output_type": "stream",
     "text": [
      "14456765\n"
     ]
    }
   ],
   "source": [
    "df = pd.read_csv('users-feeds.csv')\n",
    "print(len(df))\n",
    "\n",
    "def shrink_users_df(df,user_id):\n",
    "    userIds = np.random.choice(df[user_id].unique(),\n",
    "                                    size=int(len(df[user_id].unique())*0.12),\n",
    "                                    replace=False)\n",
    "    return df.loc[df[user_id].isin(userIds)]\n",
    "def add_negative_samples(df, item_tag, user_tag,label_tag):\n",
    "\n",
    "    updated_df = pd.DataFrame(columns=[user_tag,item_tag,label_tag])\n",
    "    all_feeds = df[item_tag].unique()\n",
    "    users, items, labels = [], [], []\n",
    "\n",
    "    user_item_set = set(zip(df[user_tag], df[item_tag]))\n",
    "    num_negatives = 5\n",
    "\n",
    "    for (u, i) in user_item_set:\n",
    "        users.append(u)\n",
    "        items.append(i)\n",
    "        labels.append(1) # items that the user has interacted with are positive\n",
    "        for _ in range(num_negatives):\n",
    "            # randomly select an item\n",
    "            negative_item = np.random.choice(all_feeds)\n",
    "            # check that the user has not interacted with this item\n",
    "            while (u, negative_item) in user_item_set:\n",
    "                negative_item = np.random.choice(all_feeds)\n",
    "            users.append(u)\n",
    "            items.append(negative_item)\n",
    "            labels.append(0) # items not interacted with are negative\n",
    "    updated_df[user_tag] = users\n",
    "    updated_df[item_tag] = items\n",
    "    updated_df[label_tag] = labels\n",
    "    del df\n",
    "    return updated_df"
   ]
  },
  {
   "cell_type": "code",
   "execution_count": 3,
   "id": "under-netscape",
   "metadata": {},
   "outputs": [],
   "source": [
    "def mask_first(x):\n",
    "    \"\"\"\n",
    "    Return a list of 0 for the first item and 1 for all others\n",
    "    \"\"\"\n",
    "    result = np.ones_like(x)\n",
    "    result[0] = 0\n",
    "\n",
    "    return result\n",
    "\n",
    "# needs to add validate in the future\n",
    "def train_test_split(full_df):\n",
    "    df_test = df.copy(deep=True)\n",
    "    df_test = df_test.groupby(['user']).first()\n",
    "\n",
    "    df_test['user'] = df_test.index\n",
    "    df_test = df_test[['user', 'feed_id','is_following_feed']]\n",
    "    df_test = df_test.rename_axis(None, axis=1)\n",
    "\n",
    "    df_train = df.copy(deep=True)\n",
    "    mask = df.groupby(['user'])['user'].transform(mask_first).astype(bool)\n",
    "\n",
    "    df_train = df.loc[mask]\n",
    "    return df_train, df_test"
   ]
  },
  {
   "cell_type": "code",
   "execution_count": 4,
   "id": "mounted-equivalent",
   "metadata": {},
   "outputs": [
    {
     "name": "stdout",
     "output_type": "stream",
     "text": [
      "           user  feed_id  is_following_feed\n",
      "6990620  333203    67919                  0\n",
      "6014407   58555  1862066                  0\n",
      "8776561  484821  1882933                  0\n",
      "9270054  114510  1136916                  1\n",
      "5107288  438599   881000                  0\n",
      "9842348   10084  1603339                  0\n",
      "2338603   15964  6745869                  0\n",
      "218794    37624  2520494                  0\n",
      "4666562  430113  6900673                  0\n",
      "9653334    4523   421762                  1\n"
     ]
    }
   ],
   "source": [
    "df = shrink_users_df(df, 'user')\n",
    "\n",
    "\n",
    "df.loc[:, 'is_following_feed'] = 1\n",
    "\n",
    "# from google.colab import files\n",
    "# df.to_csv('update.csv')\n",
    "# files.download( \"update.csv\" )\n",
    "\n",
    "df = add_negative_samples(df,'feed_id','user','is_following_feed')\n",
    "\n",
    "print(df.sample(10))\n",
    "\n",
    "df_train, df_test = train_test_split(df)\n",
    "\n",
    "\n",
    "# test_user_item_set = set(zip(df_test['user'], df_test['feed_id']))\n",
    "\n",
    "# for (u,i) in test_user_item_set:\n",
    "#   print(u)\n",
    "#   print([u]*100)"
   ]
  },
  {
   "cell_type": "code",
   "execution_count": 5,
   "id": "representative-judgment",
   "metadata": {},
   "outputs": [],
   "source": [
    "def _get_user_embedding_layers(inputs, emb_dim):  \n",
    "    \"\"\" create user embeddings \"\"\"  \n",
    "    user_gmf_emb = tf.keras.layers.Dense(emb_dim, activation='relu')(inputs)  \n",
    "    user_mlp_emb = tf.keras.layers.Dense(emb_dim, activation='relu')(inputs)  \n",
    "\n",
    "    return user_gmf_emb, user_mlp_emb  \n",
    "  \n",
    "def _get_item_embedding_layers(inputs, emb_dim):  \n",
    "    \"\"\" create item embeddings \"\"\"  \n",
    "    item_gmf_emb = tf.keras.layers.Dense(emb_dim, activation='relu')(inputs)  \n",
    "    item_mlp_emb = tf.keras.layers.Dense(emb_dim, activation='relu')(inputs)  \n",
    "    return item_gmf_emb, item_mlp_emb  "
   ]
  },
  {
   "cell_type": "code",
   "execution_count": 6,
   "id": "removed-handling",
   "metadata": {},
   "outputs": [],
   "source": [
    "def _gmf(user_emb, item_emb):  \n",
    "    \"\"\" general matrix factorization branch \"\"\"  \n",
    "    gmf_mat = tf.keras.layers.Multiply()([user_emb, item_emb])  \n",
    "    return gmf_mat  "
   ]
  },
  {
   "cell_type": "code",
   "execution_count": 7,
   "id": "round-prairie",
   "metadata": {},
   "outputs": [],
   "source": [
    "def _mlp(user_emb, item_emb, dropout_rate):  \n",
    "    \"\"\" multi-layer perceptron branch \"\"\"  \n",
    "    def add_layer(dim, input_layer, dropout_rate):  \n",
    "        hidden_layer = tf.keras.layers.Dense(dim, activation='relu')(input_layer)  \n",
    "        if dropout_rate:  \n",
    "            dropout_layer = tf.keras.layers.Dropout(dropout_rate)(hidden_layer)  \n",
    "            return dropout_layer  \n",
    "        return hidden_layer  \n",
    "  \n",
    "    concat_layer = tf.keras.layers.Concatenate()([user_emb, item_emb])\n",
    "    dropout_l1 = tf.keras.layers.Dropout(dropout_rate)(concat_layer)  \n",
    "    dense_layer_1 = add_layer(64, dropout_l1, dropout_rate)  \n",
    "    dense_layer_2 = add_layer(32, dense_layer_1, dropout_rate)  \n",
    "    dense_layer_3 = add_layer(16, dense_layer_2, None)  \n",
    "    dense_layer_4 = add_layer(8, dense_layer_3, None)  \n",
    "    return dense_layer_4  "
   ]
  },
  {
   "cell_type": "code",
   "execution_count": 8,
   "id": "blind-plane",
   "metadata": {},
   "outputs": [],
   "source": [
    "def _neuCF(gmf, mlp, dropout_rate):  \n",
    "    \"\"\" final output layer \"\"\"  \n",
    "    concat_layer = tf.keras.layers.Concatenate()([gmf, mlp])  \n",
    "    output_layer = tf.keras.layers.Dense(1, activation='sigmoid')(concat_layer)  \n",
    "    return output_layer  "
   ]
  },
  {
   "cell_type": "code",
   "execution_count": 9,
   "id": "religious-transmission",
   "metadata": {},
   "outputs": [],
   "source": [
    "def batch_generator(x, y, batch_size, n_batch, shuffle, user_dim, item_dim):\n",
    "    \"\"\" batch generator to supply data for training and testing \"\"\"\n",
    "    user_df, item_df = x\n",
    "#     print('user_df: ' )\n",
    "#     print(user_df)\n",
    "#     print('item_df: ')\n",
    "#     print(item_df)\n",
    "\n",
    "    counter = 0\n",
    "    training_index = np.arange(user_df.shape[0])\n",
    "#     print('training_index: ')\n",
    "#     print(training_index)\n",
    "\n",
    "    if shuffle:\n",
    "        np.random.shuffle(training_index)\n",
    "\n",
    "    while True:\n",
    "        batch_index = training_index[batch_size*counter:batch_size*(counter+1)]\n",
    "#         print('batch_index')\n",
    "#         print(batch_index)\n",
    "#         print('input to one_hot')\n",
    "        #print(user_df[batch_index].shape)\n",
    "        user_batch = tf.one_hot(user_df[batch_index], depth=user_dim)\n",
    "        item_batch = tf.one_hot(item_df[batch_index], depth=item_dim)\n",
    "#         print(user_batch)\n",
    "#         print(item_batch)\n",
    "#         break\n",
    "        y_batch = y[batch_index]\n",
    "        counter += 1\n",
    "        yield [user_batch, item_batch], y_batch\n",
    "\n",
    "        if counter == n_batch:\n",
    "            if shuffle:\n",
    "                np.random.shuffle(training_index)\n",
    "            counter = 0"
   ]
  },
  {
   "cell_type": "code",
   "execution_count": 10,
   "id": "comparative-daily",
   "metadata": {},
   "outputs": [],
   "source": [
    "def build_graph(user_dim, item_dim, dropout_rate=0.25):\n",
    "    \"\"\" neural collaborative filtering model \"\"\"\n",
    "\n",
    "    user_input = tf.keras.Input(shape=(user_dim), name='user_input')\n",
    "    item_input = tf.keras.Input(shape=(item_dim), name='item_input')\n",
    "\n",
    "    # create embedding layers\n",
    "    user_gmf_emb, user_mlp_emb = _get_user_embedding_layers(user_input, 32)\n",
    "    item_gmf_emb, item_mlp_emb = _get_item_embedding_layers(item_input, 32)\n",
    "\n",
    "    # general matrix factorization\n",
    "    gmf = _gmf(user_gmf_emb, item_gmf_emb)\n",
    "\n",
    "    # multi layer perceptron\n",
    "    mlp = _mlp(user_mlp_emb, item_mlp_emb, dropout_rate)\n",
    "\n",
    "    # output\n",
    "    output = _neuCF(gmf, mlp, dropout_rate)\n",
    "\n",
    "    # create the model\n",
    "    model = tf.keras.Model(inputs=[user_input, item_input], outputs=output)\n",
    "\n",
    "    return model"
   ]
  },
  {
   "cell_type": "code",
   "execution_count": 11,
   "id": "light-agent",
   "metadata": {},
   "outputs": [],
   "source": [
    "def eval_hit_rate(test_df, full_df, model, n_user):\n",
    "  print('num unique for users: ' + str(full_df['user'].nunique()))  \n",
    "  print('num unique for items: ' + str(full_df['feed_id'].nunique()))  \n",
    "\n",
    "  test_user_item_set = set(zip(test_df['user'], test_df['feed_id']))\n",
    "\n",
    "  user_interacted_items = full_df.groupby('user')['feed_id'].apply(list).to_dict()\n",
    "  hits = []\n",
    "  counter = 0\n",
    "  for (u,i) in test_user_item_set:\n",
    "    interacted_items = user_interacted_items[u]\n",
    "    not_interacted_items = set(full_df['feed_id'].unique()) - set(interacted_items)\n",
    "    selected_not_interacted = list(np.random.choice(list(not_interacted_items), 99))\n",
    "    test_items = selected_not_interacted + [i]\n",
    "    \n",
    "    #new code logic\n",
    "    results = np.empty((0, 3), int)\n",
    "    with tf.device('/GPU:0'):\n",
    "        \n",
    "        for item in test_items:\n",
    "            user_embedding = tf.one_hot(np.asarray([u], dtype=np.int64), depth=n_user)\n",
    "            item_embedding = tf.one_hot(np.asarray([item], dtype=np.int64), depth=480154)\n",
    "            print(user_embedding)\n",
    "            print(item_embedding)\n",
    "            predicted_label = model.predict([np.asarray(user_embedding, dtype=np.int64), np.asarray(item_embedding, dtype=np.int64)])\n",
    "            results = np.append(results, np.array([[u,predicted_label[0][0],item]]), axis=0)\n",
    "            print('our label')\n",
    "            print(predicted_label[0][0])\n",
    "            print(type(predicted_label))\n",
    "            break\n",
    "        break\n",
    "        counter = counter + 1\n",
    "        if counter % 500 == 0:\n",
    "            print('we are at step: ' + str(counter))\n",
    "    #print(results)\n",
    "    #break\n",
    "            \n",
    "    #print(predicted_labels)\n",
    "    #top5_items = [test_items[i[0]] for i in np.argsort(predicted_label)[::-1][0:5].tolist()]\n",
    "    top5_items =results[results[:,1].argsort()[::-1]][0:8]\n",
    "    #print('top5_items')\n",
    "    #print(top5_items)\n",
    "    if i in top5_items:\n",
    "        hits.append(1)\n",
    "        #print('we hit for feed: ' + str(u))\n",
    "    else:\n",
    "        hits.append(0)\n",
    "        #print('we missed for feed: ' + str(u))\n",
    "        \n",
    "  print(\"The Hit Ratio @ 5 is {:.2f}\".format(np.average(hits)))"
   ]
  },
  {
   "cell_type": "code",
   "execution_count": 12,
   "id": "individual-democrat",
   "metadata": {},
   "outputs": [],
   "source": [
    "def model(x_train, y_train, n_user, n_item, num_epoch, batch_size):\n",
    "    print('n_user')\n",
    "    print(n_user)\n",
    "    num_batch = np.ceil(x_train[0].shape[0]/batch_size)\n",
    "    \n",
    "\n",
    "    # build graph\n",
    "    model = build_graph(n_user, n_item)\n",
    "\n",
    "    # compile and train\n",
    "    optimizer = tf.keras.optimizers.Adam(learning_rate=.0022)\n",
    "\n",
    "    model.compile(optimizer=optimizer,\n",
    "                  loss=tf.keras.losses.BinaryCrossentropy(),\n",
    "                  metrics=['accuracy', 'top_k_categorical_accuracy']\n",
    "                  )\n",
    "\n",
    "    model.fit_generator(\n",
    "        generator=batch_generator(\n",
    "            x=x_train, y=y_train,\n",
    "            batch_size=batch_size, n_batch=num_batch,\n",
    "            shuffle=True, user_dim=n_user, item_dim=n_item),\n",
    "        epochs=num_epoch,\n",
    "        steps_per_epoch=num_batch,\n",
    "        verbose=1\n",
    "    )\n",
    "\n",
    "    return model"
   ]
  },
  {
   "cell_type": "code",
   "execution_count": 13,
   "id": "beautiful-carolina",
   "metadata": {},
   "outputs": [
    {
     "name": "stdout",
     "output_type": "stream",
     "text": [
      "n_user\n",
      "31249\n"
     ]
    },
    {
     "name": "stderr",
     "output_type": "stream",
     "text": [
      "/opt/conda/lib/python3.7/site-packages/tensorflow/python/keras/engine/training.py:1844: UserWarning: `Model.fit_generator` is deprecated and will be removed in a future version. Please use `Model.fit`, which supports generators.\n",
      "  warnings.warn('`Model.fit_generator` is deprecated and '\n"
     ]
    },
    {
     "name": "stdout",
     "output_type": "stream",
     "text": [
      "Epoch 1/5\n",
      "  79/9798 [..............................] - ETA: 5:27:23 - loss: 0.6005 - accuracy: 0.8240 - top_k_categorical_accuracy: 1.0000"
     ]
    },
    {
     "ename": "KeyboardInterrupt",
     "evalue": "",
     "output_type": "error",
     "traceback": [
      "\u001b[0;31m---------------------------------------------------------------------------\u001b[0m",
      "\u001b[0;31mKeyboardInterrupt\u001b[0m                         Traceback (most recent call last)",
      "\u001b[0;32m<ipython-input-13-e5bd5765a7ec>\u001b[0m in \u001b[0;36m<module>\u001b[0;34m\u001b[0m\n\u001b[1;32m      6\u001b[0m             \u001b[0mn_item\u001b[0m\u001b[0;34m=\u001b[0m\u001b[0mdf\u001b[0m\u001b[0;34m[\u001b[0m\u001b[0;34m'feed_id'\u001b[0m\u001b[0;34m]\u001b[0m\u001b[0;34m.\u001b[0m\u001b[0mnunique\u001b[0m\u001b[0;34m(\u001b[0m\u001b[0;34m)\u001b[0m\u001b[0;34m,\u001b[0m\u001b[0;34m\u001b[0m\u001b[0;34m\u001b[0m\u001b[0m\n\u001b[1;32m      7\u001b[0m             \u001b[0mnum_epoch\u001b[0m\u001b[0;34m=\u001b[0m\u001b[0;36m5\u001b[0m\u001b[0;34m,\u001b[0m\u001b[0;34m\u001b[0m\u001b[0;34m\u001b[0m\u001b[0m\n\u001b[0;32m----> 8\u001b[0;31m             \u001b[0mbatch_size\u001b[0m\u001b[0;34m=\u001b[0m\u001b[0;36m1024\u001b[0m\u001b[0;34m\u001b[0m\u001b[0;34m\u001b[0m\u001b[0m\n\u001b[0m\u001b[1;32m      9\u001b[0m \u001b[0;34m\u001b[0m\u001b[0m\n\u001b[1;32m     10\u001b[0m         )\n",
      "\u001b[0;32m<ipython-input-12-263ac2d12cb7>\u001b[0m in \u001b[0;36mmodel\u001b[0;34m(x_train, y_train, n_user, n_item, num_epoch, batch_size)\u001b[0m\n\u001b[1;32m     23\u001b[0m         \u001b[0mepochs\u001b[0m\u001b[0;34m=\u001b[0m\u001b[0mnum_epoch\u001b[0m\u001b[0;34m,\u001b[0m\u001b[0;34m\u001b[0m\u001b[0;34m\u001b[0m\u001b[0m\n\u001b[1;32m     24\u001b[0m         \u001b[0msteps_per_epoch\u001b[0m\u001b[0;34m=\u001b[0m\u001b[0mnum_batch\u001b[0m\u001b[0;34m,\u001b[0m\u001b[0;34m\u001b[0m\u001b[0;34m\u001b[0m\u001b[0m\n\u001b[0;32m---> 25\u001b[0;31m         \u001b[0mverbose\u001b[0m\u001b[0;34m=\u001b[0m\u001b[0;36m1\u001b[0m\u001b[0;34m\u001b[0m\u001b[0;34m\u001b[0m\u001b[0m\n\u001b[0m\u001b[1;32m     26\u001b[0m     )\n\u001b[1;32m     27\u001b[0m \u001b[0;34m\u001b[0m\u001b[0m\n",
      "\u001b[0;32m/opt/conda/lib/python3.7/site-packages/tensorflow/python/keras/engine/training.py\u001b[0m in \u001b[0;36mfit_generator\u001b[0;34m(self, generator, steps_per_epoch, epochs, verbose, callbacks, validation_data, validation_steps, validation_freq, class_weight, max_queue_size, workers, use_multiprocessing, shuffle, initial_epoch)\u001b[0m\n\u001b[1;32m   1859\u001b[0m         \u001b[0muse_multiprocessing\u001b[0m\u001b[0;34m=\u001b[0m\u001b[0muse_multiprocessing\u001b[0m\u001b[0;34m,\u001b[0m\u001b[0;34m\u001b[0m\u001b[0;34m\u001b[0m\u001b[0m\n\u001b[1;32m   1860\u001b[0m         \u001b[0mshuffle\u001b[0m\u001b[0;34m=\u001b[0m\u001b[0mshuffle\u001b[0m\u001b[0;34m,\u001b[0m\u001b[0;34m\u001b[0m\u001b[0;34m\u001b[0m\u001b[0m\n\u001b[0;32m-> 1861\u001b[0;31m         initial_epoch=initial_epoch)\n\u001b[0m\u001b[1;32m   1862\u001b[0m \u001b[0;34m\u001b[0m\u001b[0m\n\u001b[1;32m   1863\u001b[0m   def evaluate_generator(self,\n",
      "\u001b[0;32m/opt/conda/lib/python3.7/site-packages/tensorflow/python/keras/engine/training.py\u001b[0m in \u001b[0;36mfit\u001b[0;34m(self, x, y, batch_size, epochs, verbose, callbacks, validation_split, validation_data, shuffle, class_weight, sample_weight, initial_epoch, steps_per_epoch, validation_steps, validation_batch_size, validation_freq, max_queue_size, workers, use_multiprocessing)\u001b[0m\n\u001b[1;32m   1098\u001b[0m                 _r=1):\n\u001b[1;32m   1099\u001b[0m               \u001b[0mcallbacks\u001b[0m\u001b[0;34m.\u001b[0m\u001b[0mon_train_batch_begin\u001b[0m\u001b[0;34m(\u001b[0m\u001b[0mstep\u001b[0m\u001b[0;34m)\u001b[0m\u001b[0;34m\u001b[0m\u001b[0;34m\u001b[0m\u001b[0m\n\u001b[0;32m-> 1100\u001b[0;31m               \u001b[0mtmp_logs\u001b[0m \u001b[0;34m=\u001b[0m \u001b[0mself\u001b[0m\u001b[0;34m.\u001b[0m\u001b[0mtrain_function\u001b[0m\u001b[0;34m(\u001b[0m\u001b[0miterator\u001b[0m\u001b[0;34m)\u001b[0m\u001b[0;34m\u001b[0m\u001b[0;34m\u001b[0m\u001b[0m\n\u001b[0m\u001b[1;32m   1101\u001b[0m               \u001b[0;32mif\u001b[0m \u001b[0mdata_handler\u001b[0m\u001b[0;34m.\u001b[0m\u001b[0mshould_sync\u001b[0m\u001b[0;34m:\u001b[0m\u001b[0;34m\u001b[0m\u001b[0;34m\u001b[0m\u001b[0m\n\u001b[1;32m   1102\u001b[0m                 \u001b[0mcontext\u001b[0m\u001b[0;34m.\u001b[0m\u001b[0masync_wait\u001b[0m\u001b[0;34m(\u001b[0m\u001b[0;34m)\u001b[0m\u001b[0;34m\u001b[0m\u001b[0;34m\u001b[0m\u001b[0m\n",
      "\u001b[0;32m/opt/conda/lib/python3.7/site-packages/tensorflow/python/eager/def_function.py\u001b[0m in \u001b[0;36m__call__\u001b[0;34m(self, *args, **kwds)\u001b[0m\n\u001b[1;32m    826\u001b[0m     \u001b[0mtracing_count\u001b[0m \u001b[0;34m=\u001b[0m \u001b[0mself\u001b[0m\u001b[0;34m.\u001b[0m\u001b[0mexperimental_get_tracing_count\u001b[0m\u001b[0;34m(\u001b[0m\u001b[0;34m)\u001b[0m\u001b[0;34m\u001b[0m\u001b[0;34m\u001b[0m\u001b[0m\n\u001b[1;32m    827\u001b[0m     \u001b[0;32mwith\u001b[0m \u001b[0mtrace\u001b[0m\u001b[0;34m.\u001b[0m\u001b[0mTrace\u001b[0m\u001b[0;34m(\u001b[0m\u001b[0mself\u001b[0m\u001b[0;34m.\u001b[0m\u001b[0m_name\u001b[0m\u001b[0;34m)\u001b[0m \u001b[0;32mas\u001b[0m \u001b[0mtm\u001b[0m\u001b[0;34m:\u001b[0m\u001b[0;34m\u001b[0m\u001b[0;34m\u001b[0m\u001b[0m\n\u001b[0;32m--> 828\u001b[0;31m       \u001b[0mresult\u001b[0m \u001b[0;34m=\u001b[0m \u001b[0mself\u001b[0m\u001b[0;34m.\u001b[0m\u001b[0m_call\u001b[0m\u001b[0;34m(\u001b[0m\u001b[0;34m*\u001b[0m\u001b[0margs\u001b[0m\u001b[0;34m,\u001b[0m \u001b[0;34m**\u001b[0m\u001b[0mkwds\u001b[0m\u001b[0;34m)\u001b[0m\u001b[0;34m\u001b[0m\u001b[0;34m\u001b[0m\u001b[0m\n\u001b[0m\u001b[1;32m    829\u001b[0m       \u001b[0mcompiler\u001b[0m \u001b[0;34m=\u001b[0m \u001b[0;34m\"xla\"\u001b[0m \u001b[0;32mif\u001b[0m \u001b[0mself\u001b[0m\u001b[0;34m.\u001b[0m\u001b[0m_experimental_compile\u001b[0m \u001b[0;32melse\u001b[0m \u001b[0;34m\"nonXla\"\u001b[0m\u001b[0;34m\u001b[0m\u001b[0;34m\u001b[0m\u001b[0m\n\u001b[1;32m    830\u001b[0m       \u001b[0mnew_tracing_count\u001b[0m \u001b[0;34m=\u001b[0m \u001b[0mself\u001b[0m\u001b[0;34m.\u001b[0m\u001b[0mexperimental_get_tracing_count\u001b[0m\u001b[0;34m(\u001b[0m\u001b[0;34m)\u001b[0m\u001b[0;34m\u001b[0m\u001b[0;34m\u001b[0m\u001b[0m\n",
      "\u001b[0;32m/opt/conda/lib/python3.7/site-packages/tensorflow/python/eager/def_function.py\u001b[0m in \u001b[0;36m_call\u001b[0;34m(self, *args, **kwds)\u001b[0m\n\u001b[1;32m    853\u001b[0m       \u001b[0;31m# In this case we have created variables on the first call, so we run the\u001b[0m\u001b[0;34m\u001b[0m\u001b[0;34m\u001b[0m\u001b[0;34m\u001b[0m\u001b[0m\n\u001b[1;32m    854\u001b[0m       \u001b[0;31m# defunned version which is guaranteed to never create variables.\u001b[0m\u001b[0;34m\u001b[0m\u001b[0;34m\u001b[0m\u001b[0;34m\u001b[0m\u001b[0m\n\u001b[0;32m--> 855\u001b[0;31m       \u001b[0;32mreturn\u001b[0m \u001b[0mself\u001b[0m\u001b[0;34m.\u001b[0m\u001b[0m_stateless_fn\u001b[0m\u001b[0;34m(\u001b[0m\u001b[0;34m*\u001b[0m\u001b[0margs\u001b[0m\u001b[0;34m,\u001b[0m \u001b[0;34m**\u001b[0m\u001b[0mkwds\u001b[0m\u001b[0;34m)\u001b[0m  \u001b[0;31m# pylint: disable=not-callable\u001b[0m\u001b[0;34m\u001b[0m\u001b[0;34m\u001b[0m\u001b[0m\n\u001b[0m\u001b[1;32m    856\u001b[0m     \u001b[0;32melif\u001b[0m \u001b[0mself\u001b[0m\u001b[0;34m.\u001b[0m\u001b[0m_stateful_fn\u001b[0m \u001b[0;32mis\u001b[0m \u001b[0;32mnot\u001b[0m \u001b[0;32mNone\u001b[0m\u001b[0;34m:\u001b[0m\u001b[0;34m\u001b[0m\u001b[0;34m\u001b[0m\u001b[0m\n\u001b[1;32m    857\u001b[0m       \u001b[0;31m# Release the lock early so that multiple threads can perform the call\u001b[0m\u001b[0;34m\u001b[0m\u001b[0;34m\u001b[0m\u001b[0;34m\u001b[0m\u001b[0m\n",
      "\u001b[0;32m/opt/conda/lib/python3.7/site-packages/tensorflow/python/eager/function.py\u001b[0m in \u001b[0;36m__call__\u001b[0;34m(self, *args, **kwargs)\u001b[0m\n\u001b[1;32m   2941\u001b[0m        filtered_flat_args) = self._maybe_define_function(args, kwargs)\n\u001b[1;32m   2942\u001b[0m     return graph_function._call_flat(\n\u001b[0;32m-> 2943\u001b[0;31m         filtered_flat_args, captured_inputs=graph_function.captured_inputs)  # pylint: disable=protected-access\n\u001b[0m\u001b[1;32m   2944\u001b[0m \u001b[0;34m\u001b[0m\u001b[0m\n\u001b[1;32m   2945\u001b[0m   \u001b[0;34m@\u001b[0m\u001b[0mproperty\u001b[0m\u001b[0;34m\u001b[0m\u001b[0;34m\u001b[0m\u001b[0m\n",
      "\u001b[0;32m/opt/conda/lib/python3.7/site-packages/tensorflow/python/eager/function.py\u001b[0m in \u001b[0;36m_call_flat\u001b[0;34m(self, args, captured_inputs, cancellation_manager)\u001b[0m\n\u001b[1;32m   1917\u001b[0m       \u001b[0;31m# No tape is watching; skip to running the function.\u001b[0m\u001b[0;34m\u001b[0m\u001b[0;34m\u001b[0m\u001b[0;34m\u001b[0m\u001b[0m\n\u001b[1;32m   1918\u001b[0m       return self._build_call_outputs(self._inference_function.call(\n\u001b[0;32m-> 1919\u001b[0;31m           ctx, args, cancellation_manager=cancellation_manager))\n\u001b[0m\u001b[1;32m   1920\u001b[0m     forward_backward = self._select_forward_and_backward_functions(\n\u001b[1;32m   1921\u001b[0m         \u001b[0margs\u001b[0m\u001b[0;34m,\u001b[0m\u001b[0;34m\u001b[0m\u001b[0;34m\u001b[0m\u001b[0m\n",
      "\u001b[0;32m/opt/conda/lib/python3.7/site-packages/tensorflow/python/eager/function.py\u001b[0m in \u001b[0;36mcall\u001b[0;34m(self, ctx, args, cancellation_manager)\u001b[0m\n\u001b[1;32m    558\u001b[0m               \u001b[0minputs\u001b[0m\u001b[0;34m=\u001b[0m\u001b[0margs\u001b[0m\u001b[0;34m,\u001b[0m\u001b[0;34m\u001b[0m\u001b[0;34m\u001b[0m\u001b[0m\n\u001b[1;32m    559\u001b[0m               \u001b[0mattrs\u001b[0m\u001b[0;34m=\u001b[0m\u001b[0mattrs\u001b[0m\u001b[0;34m,\u001b[0m\u001b[0;34m\u001b[0m\u001b[0;34m\u001b[0m\u001b[0m\n\u001b[0;32m--> 560\u001b[0;31m               ctx=ctx)\n\u001b[0m\u001b[1;32m    561\u001b[0m         \u001b[0;32melse\u001b[0m\u001b[0;34m:\u001b[0m\u001b[0;34m\u001b[0m\u001b[0;34m\u001b[0m\u001b[0m\n\u001b[1;32m    562\u001b[0m           outputs = execute.execute_with_cancellation(\n",
      "\u001b[0;32m/opt/conda/lib/python3.7/site-packages/tensorflow/python/eager/execute.py\u001b[0m in \u001b[0;36mquick_execute\u001b[0;34m(op_name, num_outputs, inputs, attrs, ctx, name)\u001b[0m\n\u001b[1;32m     58\u001b[0m     \u001b[0mctx\u001b[0m\u001b[0;34m.\u001b[0m\u001b[0mensure_initialized\u001b[0m\u001b[0;34m(\u001b[0m\u001b[0;34m)\u001b[0m\u001b[0;34m\u001b[0m\u001b[0;34m\u001b[0m\u001b[0m\n\u001b[1;32m     59\u001b[0m     tensors = pywrap_tfe.TFE_Py_Execute(ctx._handle, device_name, op_name,\n\u001b[0;32m---> 60\u001b[0;31m                                         inputs, attrs, num_outputs)\n\u001b[0m\u001b[1;32m     61\u001b[0m   \u001b[0;32mexcept\u001b[0m \u001b[0mcore\u001b[0m\u001b[0;34m.\u001b[0m\u001b[0m_NotOkStatusException\u001b[0m \u001b[0;32mas\u001b[0m \u001b[0me\u001b[0m\u001b[0;34m:\u001b[0m\u001b[0;34m\u001b[0m\u001b[0;34m\u001b[0m\u001b[0m\n\u001b[1;32m     62\u001b[0m     \u001b[0;32mif\u001b[0m \u001b[0mname\u001b[0m \u001b[0;32mis\u001b[0m \u001b[0;32mnot\u001b[0m \u001b[0;32mNone\u001b[0m\u001b[0;34m:\u001b[0m\u001b[0;34m\u001b[0m\u001b[0;34m\u001b[0m\u001b[0m\n",
      "\u001b[0;31mKeyboardInterrupt\u001b[0m: "
     ]
    }
   ],
   "source": [
    "with tf.device('/GPU:0'):\n",
    "    ncf_model = model(\n",
    "            x_train=[df_train['user'].to_numpy(), df_train['feed_id'].to_numpy()],\n",
    "            y_train=df_train['is_following_feed'].to_numpy(),\n",
    "            n_user=df['user'].nunique(),\n",
    "            n_item=df['feed_id'].nunique(),\n",
    "            num_epoch=7,\n",
    "            batch_size=512\n",
    "            \n",
    "        )"
   ]
  },
  {
   "cell_type": "code",
   "execution_count": null,
   "id": "boxed-theology",
   "metadata": {},
   "outputs": [],
   "source": [
    "ncf_model.save('ncf-model-3-31-2021.keras')\n",
    "#import keras\n",
    "#ncf_model = keras.models.load_model('ncf-model-topK-accuracy.keras')\n",
    "#print(ncf_model.summary())\n",
    "\n",
    "#print(df_test['user'].nunique())\n",
    "#eval_hit_rate(df_test, df, ncf_model, n_user=df['user'].nunique())\n"
   ]
  },
  {
   "cell_type": "code",
   "execution_count": null,
   "id": "precious-dependence",
   "metadata": {},
   "outputs": [],
   "source": [
    "# tf.keras.utils.plot_model(ncf_model, to_file=\"neural_collaborative_filtering_model.png\")  \n",
    "# files.download('neural_collaborative_filtering_model.png')\n",
    "\n",
    "# df_test.head()\n"
   ]
  },
  {
   "cell_type": "code",
   "execution_count": null,
   "id": "graphic-pillow",
   "metadata": {},
   "outputs": [],
   "source": [
    "# really might have to update n_user and n_item to uniques in whole df"
   ]
  },
  {
   "cell_type": "code",
   "execution_count": null,
   "id": "balanced-mills",
   "metadata": {},
   "outputs": [],
   "source": []
  },
  {
   "cell_type": "code",
   "execution_count": null,
   "id": "signed-august",
   "metadata": {},
   "outputs": [],
   "source": []
  }
 ],
 "metadata": {
  "environment": {
   "name": "tf2-gpu.2-4.m65",
   "type": "gcloud",
   "uri": "gcr.io/deeplearning-platform-release/tf2-gpu.2-4:m65"
  },
  "kernelspec": {
   "display_name": "Python [conda env:root] *",
   "language": "python",
   "name": "conda-root-py"
  },
  "language_info": {
   "codemirror_mode": {
    "name": "ipython",
    "version": 3
   },
   "file_extension": ".py",
   "mimetype": "text/x-python",
   "name": "python",
   "nbconvert_exporter": "python",
   "pygments_lexer": "ipython3",
   "version": "3.7.10"
  }
 },
 "nbformat": 4,
 "nbformat_minor": 5
}
